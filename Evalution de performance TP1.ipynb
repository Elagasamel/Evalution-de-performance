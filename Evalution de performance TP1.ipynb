{
 "cells": [
  {
   "cell_type": "markdown",
   "metadata": {},
   "source": [
    "## <a  style=\"color:#e320c2\" >Evaluation de Performance  2DNI G1                          $$ 2019-2020      $$ </a>        \n"
   ]
  },
  {
   "cell_type": "markdown",
   "metadata": {},
   "source": [
    "## Représenté par :    \n"
   ]
  },
  {
   "cell_type": "markdown",
   "metadata": {},
   "source": [
    "## <center> Elagas Amel  et Bousidi Ibtissem </center> "
   ]
  },
  {
   "cell_type": "markdown",
   "metadata": {},
   "source": [
    "   ## <a  style=\"color:#e3200\" > TP 1:  Génération   de  nombres  aléatoires de  différentes distributions        </a> "
   ]
  },
  {
   "cell_type": "markdown",
   "metadata": {},
   "source": [
    " ## <a  style=\"color:#e320c2\" > Objectives :       </a>      "
   ]
  },
  {
   "cell_type": "markdown",
   "metadata": {},
   "source": [
    "Il est demandé de collecter des statistiques sur les suites de nombres qui sont générées. \n",
    "Dans le cadre de ce TP, comme les distributions sont connues à l’avance, il s’agit de vérifier la validité des algorithmes de génération, et également de juger de la précision des statistiques. \n",
    "Dans une situation pratique, on ne connait pas la distribution à l’avance et les statistiques permettent de l’apprendre approximativement.\n"
   ]
  },
  {
   "cell_type": "markdown",
   "metadata": {},
   "source": [
    "## <a  style=\"color:#e320c2\" > Travail demandé :         </a>   "
   ]
  },
  {
   "cell_type": "markdown",
   "metadata": {},
   "source": [
    "Pour chacun des distributions ci-dessous, l’exercice est le suivant :\n",
    "\n",
    "•\tFaire un programme qui génère N valeurs de la variable aléatoire : X1,….Xn. on prendra N grand, mettons 10000 ou plus.\n",
    "\n",
    "•\tCalculer les estimateurs statistiques pour la moyenne et la variance de la variable aléatoire X.\n"
   ]
  },
  {
   "cell_type": "markdown",
   "metadata": {},
   "source": [
    "## <a  style=\"color:#e320c2\" >  Partie 1: Etude théorique          </a>  "
   ]
  },
  {
   "cell_type": "markdown",
   "metadata": {},
   "source": [
    "####  <p style=\"color:#FF4000\" >  Moyenne empirique :           </b>  "
   ]
  },
  {
   "cell_type": "markdown",
   "metadata": {},
   "source": [
    "La statistique la plus évidente à calculer sur un échantillon numérique, celle dont l'interprétation est la plus intuitive, est la moyenne empirique."
   ]
  },
  {
   "cell_type": "markdown",
   "metadata": {},
   "source": [
    "La moyenne empirique d'un échantillon est la somme de ses éléments divisée par leur nombre. Si l'échantillon est noté $ (x_1,\\ldots,x_n)$, sa moyenne empirique est :\n",
    "\n",
    "\n",
    "$$\\displaystyle \\overline{x} = \\frac{1}{n} (x_1+\\cdots+x_n)\\;. \n",
    "$$"
   ]
  },
  {
   "cell_type": "markdown",
   "metadata": {},
   "source": [
    "La moyenne est donc le centre de gravité des données, affectées de coefficients égaux pour chaque individu. Elle peut être considérée comme une valeur centrale, même si elle n'est pas égale à une des modalités.\n",
    "Tout comme le centre de gravité, la moyenne est associative. Si on réunit deux échantillons, de tailles respectives $ n_x$ et $ n_y$, de moyennes respectives $ \\overline{x}$ et $ \\overline{y}$, alors la moyenne du nouvel échantillon sera \n",
    "\n",
    "$$ (n_x\\overline{x} + n_y\\overline{y})/(n_x+n_y)$$.\n",
    "\n",
    "Si $ (x_1,\\ldots,x_n)$ est un échantillon et si on pose pour tout $ i=1,\\ldots,n$, $ y_i=ax_i+b$, où $ a$ et $ b$ sont deux constantes, alors la moyenne empirique de l'échantillon $ (y_1,\\ldots,y_n)$ est $ \\overline{y} = a\\overline{x} + b$. \n",
    "En particulier, si $ a=1$ et $ b=-\\overline{x}$, le nouvel échantillon a une moyenne nulle. Centrer les données c'est leur retrancher la moyenne empirique de manière à la ramener à 0."
   ]
  },
  {
   "cell_type": "markdown",
   "metadata": {},
   "source": [
    "####  <a  style=\"color:#FF4000\" >  Variance empirique :          </a>  "
   ]
  },
  {
   "cell_type": "markdown",
   "metadata": {},
   "source": [
    "Les notions de variance et d'écart-type servent à quantifier la dispersion d'un échantillon autour de sa moyenne. La définition est la suivante :"
   ]
  },
  {
   "cell_type": "markdown",
   "metadata": {},
   "source": [
    "Soit $ (x_1,\\ldots,x_n)$ un échantillon, et $ \\overline{x}$ sa moyenne empirique. On appelle variance de l'échantillon, la quantité, notée $ s^2$, définie par :\n",
    "\n",
    "$$\\displaystyle s^2 = \\frac{1}{n} \\sum_{i=1}^n (x_i-\\overline{x})^2\\;.\n",
    "$$"
   ]
  },
  {
   "cell_type": "markdown",
   "metadata": {},
   "source": [
    " ## <a  style=\"color:#e320c2\" > Partie 2 : Développment        </a>  "
   ]
  },
  {
   "cell_type": "markdown",
   "metadata": {},
   "source": [
    "# Exemple 1"
   ]
  },
  {
   "cell_type": "code",
   "execution_count": 1,
   "metadata": {},
   "outputs": [],
   "source": [
    "import random\n",
    "import matplotlib.pyplot as plt"
   ]
  },
  {
   "cell_type": "markdown",
   "metadata": {},
   "source": [
    "#### Commentaires :"
   ]
  },
  {
   "cell_type": "markdown",
   "metadata": {},
   "source": [
    "####  <a  style=\"color:#FF300\" > Random :          </a>\n",
    " Random est un module Python regroupant plusieurs fonctions permettant de travailler avec des valeurs aléatoires."
   ]
  },
  {
   "cell_type": "markdown",
   "metadata": {},
   "source": [
    "####  <a  style=\"color:#FF300\" > Matplotlib :         </a>\n",
    "Est une bibliothèque Python capable de produire des graphes de qualité. Matplotlib peut être utilisé dans des scripts Python, le shell Python et IPython, le notebook Jupyter, des serveurs d’application web et dans quatre outils d’interface graphique."
   ]
  },
  {
   "cell_type": "markdown",
   "metadata": {},
   "source": [
    "####  <a  style=\"color:#FF4000\" > Script 1:          </a>"
   ]
  },
  {
   "cell_type": "code",
   "execution_count": 2,
   "metadata": {},
   "outputs": [],
   "source": [
    "def Xn(t,n):\n",
    "    x=0\n",
    "    for j in t:\n",
    "        x=x+j\n",
    "    return x/n"
   ]
  },
  {
   "cell_type": "markdown",
   "metadata": {},
   "source": [
    "#### Commentaires :"
   ]
  },
  {
   "cell_type": "markdown",
   "metadata": {},
   "source": [
    "Permet de  calculer  la moyenne empirique.  "
   ]
  },
  {
   "cell_type": "markdown",
   "metadata": {},
   "source": [
    "####  <a  style=\"color:#FF4000\" > Script 2:          </a>"
   ]
  },
  {
   "cell_type": "code",
   "execution_count": 3,
   "metadata": {},
   "outputs": [],
   "source": [
    "def On(t,n,xn):\n",
    "    tita=0\n",
    "    for i in t:\n",
    "        tita=tita+(i-xn)**2\n",
    "    return tita/n"
   ]
  },
  {
   "cell_type": "markdown",
   "metadata": {},
   "source": [
    "#### Commentaires :"
   ]
  },
  {
   "cell_type": "markdown",
   "metadata": {},
   "source": [
    "Permet de calculer la variance empirique."
   ]
  },
  {
   "cell_type": "markdown",
   "metadata": {},
   "source": [
    "####  <a  style=\"color:#FF4000\" > Script 3:          </a>"
   ]
  },
  {
   "cell_type": "code",
   "execution_count": 4,
   "metadata": {},
   "outputs": [],
   "source": [
    "def creat_alea_table(n):\n",
    "    t=[]\n",
    "    for i in range(n+1):\n",
    "        t.append(random.uniform(0, 1))    # i: prend des valeurs entre 0 et 1\n",
    "    return t"
   ]
  },
  {
   "cell_type": "code",
   "execution_count": 5,
   "metadata": {},
   "outputs": [],
   "source": [
    "n=[1000,10000,100000,1000000] # Echantillons\n",
    "titatable=[]\n",
    "xn=[]\n",
    "for i in n:\n",
    "    t=creat_alea_table(i)\n",
    "    xn.append(Xn(t,i))\n",
    "    titatable.append(On(t,i,Xn(t,i)))\n"
   ]
  },
  {
   "cell_type": "markdown",
   "metadata": {},
   "source": [
    "#### Commentaires "
   ]
  },
  {
   "cell_type": "markdown",
   "metadata": {},
   "source": [
    "Création des valeurs alératoires avec la distribution uniforme."
   ]
  },
  {
   "cell_type": "markdown",
   "metadata": {},
   "source": [
    "####  <a  style=\"color:#FF4000\" > Script 4:          </a>"
   ]
  },
  {
   "cell_type": "code",
   "execution_count": 6,
   "metadata": {
    "scrolled": true
   },
   "outputs": [
    {
     "data": {
      "image/png": "[encoded data removed]",
      "text/plain": [
       "<Figure size 432x288 with 1 Axes>"
      ]
     },
     "metadata": {
      "needs_background": "light"
     },
     "output_type": "display_data"
    },
    {
     "name": "stdout",
     "output_type": "stream",
     "text": [
      "Nombre des variables aleatoire Xi est= 1000 ,la moyenne= 0.5016051888577361 ,la variance= 0.08583333109648628.\n",
      "Nombre des variables aleatoire Xi est= 10000 ,la moyenne= 0.5028763191652034 ,la variance= 0.08227487108961808.\n",
      "Nombre des variables aleatoire Xi est= 100000 ,la moyenne= 0.5002183683613388 ,la variance= 0.08296721911821271.\n",
      "Nombre des variables aleatoire Xi est= 1000000 ,la moyenne= 0.4995782601156762 ,la variance= 0.08332331659780315.\n"
     ]
    }
   ],
   "source": [
    "plt.plot(n,titatable,'r*')\n",
    "plt.plot(n,xn,'b*')\n",
    "plt.xlabel(\"n:les valeurs alératoires\")\n",
    "plt.ylabel(\"moyenne/ variance\")\n",
    "plt.show()\n",
    "for i in range(len(n)):\n",
    "    print ('Nombre des variables aleatoire Xi est= {} ,la moyenne= {} ,la variance= {}.'.format(n[i],xn[i],titatable[i]))"
   ]
  },
  {
   "cell_type": "markdown",
   "metadata": {},
   "source": [
    "#### Commentaires "
   ]
  },
  {
   "cell_type": "markdown",
   "metadata": {},
   "source": [
    "Représentation graphique:       "
   ]
  },
  {
   "cell_type": "markdown",
   "metadata": {},
   "source": [
    " ## <a  style=\"color:#e320c2\" >  intérpretation         </a>  "
   ]
  },
  {
   "cell_type": "markdown",
   "metadata": {},
   "source": [
    "####  <a  style=\"color:#FF4000\" > Résultats pratiques:         </a>"
   ]
  },
  {
   "cell_type": "markdown",
   "metadata": {},
   "source": [
    "##### N= 1000       la moyenne= 0.5021112014064854   la variance= 0.08054670391524937."
   ]
  },
  {
   "cell_type": "markdown",
   "metadata": {},
   "source": [
    "##### N= 10000             <a  style=\"color:#FF4000\" > Espérance=         </a> 0.5018121000664015      <a  style=\"color:#FF4000\" >  Variance=         </a> 0.08441651948172964."
   ]
  },
  {
   "cell_type": "markdown",
   "metadata": {},
   "source": [
    " #### N= 100000   <a  style=\"color:#FF4000\" > Espérance=         </a>  0.49980183044667026   <a  style=\"color:#FF4000\" >  Variance=         </a> 0.08340623234035838."
   ]
  },
  {
   "cell_type": "markdown",
   "metadata": {},
   "source": [
    "\n",
    "\n",
    "\n",
    "#### N= 1000000    <a  style=\"color:#FF4000\" > Espérance=         </a> 0.5000788389652128   <a  style=\"color:#FF4000\" >  Variance=         </a> 0.08328387655188432."
   ]
  },
  {
   "cell_type": "markdown",
   "metadata": {},
   "source": [
    "####  <a  style=\"color:#FF4000\" > Résultats Théoriques:         </a>"
   ]
  },
  {
   "cell_type": "markdown",
   "metadata": {},
   "source": [
    "#### <a  style=\"color:#FF4000\" > Espérance=         </a> 0.50   <a  style=\"color:#FF4000\" >  Variance=         </a> 0.083283876. "
   ]
  },
  {
   "cell_type": "markdown",
   "metadata": {},
   "source": [
    "## Conclusion "
   ]
  },
  {
   "cell_type": "markdown",
   "metadata": {},
   "source": [
    "Quelque soit la valeur de N, la valeur de la moyenne empirique et la varience empirique sont trés proches de les resulats théoriques.  "
   ]
  },
  {
   "cell_type": "markdown",
   "metadata": {},
   "source": [
    "# Exemple 2"
   ]
  },
  {
   "cell_type": "markdown",
   "metadata": {},
   "source": [
    "## <a  style=\"color:#e320c2\" >  Script 1   </a> "
   ]
  },
  {
   "cell_type": "code",
   "execution_count": 7,
   "metadata": {},
   "outputs": [],
   "source": [
    "import numpy as np\n",
    "from ipykernel import kernelapp as app\n",
    "import math"
   ]
  },
  {
   "cell_type": "markdown",
   "metadata": {},
   "source": [
    "#### Commentaires :"
   ]
  },
  {
   "cell_type": "markdown",
   "metadata": {},
   "source": [
    "####  <a  style=\"color:#FF300\" > La bibliothèque NumPy : </a>\n",
    "Permet d’effectuer des calculs numériques avec Python. Elle introduit une gestion facilitée des tableaux de nombres."
   ]
  },
  {
   "cell_type": "markdown",
   "metadata": {},
   "source": [
    "## <a  style=\"color:#e320c2\" >  Script 2  </a> "
   ]
  },
  {
   "cell_type": "code",
   "execution_count": 8,
   "metadata": {},
   "outputs": [],
   "source": [
    "def creat_alea_table(n,lamda):\n",
    "    t=np.random.exponential(1/lamda,n)\n",
    "    return t"
   ]
  },
  {
   "cell_type": "markdown",
   "metadata": {},
   "source": [
    "#### Commentaires :"
   ]
  },
  {
   "cell_type": "markdown",
   "metadata": {},
   "source": [
    "Déclaration de la fonction F "
   ]
  },
  {
   "cell_type": "markdown",
   "metadata": {},
   "source": [
    "####  <a  style=\"color:#FF300\" > Random sampling (numpy.random) : </a>\n",
    "Produisent des nombres pseudo aléatoires en utilisant des combinaisons d'un BitGenerator pour créer des séquences et d'un Generator pour utiliser ces séquences pour échantillonner à partir de différentes distributions statistiques:\n",
    "####  <a  style=\"color:#FF300\" > BitGenerators: </a>\n",
    "Objets qui génèrent des nombres aléatoires. Ce sont généralement des mots entiers non signés remplis de séquences de 32 ou 64 bits aléatoires.\n",
    "####  <a  style=\"color:#FF300\" > Générateurs: </a>\n",
    "Objets qui transforment des séquences de bits aléatoires d'un BitGenerator en séquences de nombres qui suivent une distribution de probabilité spécifique (telle que uniforme, normale ou binomiale) dans un intervalle spécifié."
   ]
  },
  {
   "cell_type": "markdown",
   "metadata": {},
   "source": [
    "## <a  style=\"color:#e320c2\" >  Script 3  </a> "
   ]
  },
  {
   "cell_type": "code",
   "execution_count": 9,
   "metadata": {},
   "outputs": [
    {
     "name": "stderr",
     "output_type": "stream",
     "text": [
      "<ipython-input-9-bbdb879435a2>:11: MatplotlibDeprecationWarning: Adding an axes using the same arguments as a previous axes currently reuses the earlier instance.  In a future version, a new instance will always be created and returned.  Meanwhile, this warning can be suppressed, and the future behavior ensured, by passing a unique label to each axes instance.\n",
      "  plt.subplot(2,2,1)\n",
      "<ipython-input-9-bbdb879435a2>:15: MatplotlibDeprecationWarning: Adding an axes using the same arguments as a previous axes currently reuses the earlier instance.  In a future version, a new instance will always be created and returned.  Meanwhile, this warning can be suppressed, and the future behavior ensured, by passing a unique label to each axes instance.\n",
      "  plt.subplot(2,2,2)\n"
     ]
    },
    {
     "data": {
      "image/png": "[encoded data removed]",
      "text/plain": [
       "<Figure size 432x288 with 2 Axes>"
      ]
     },
     "metadata": {
      "needs_background": "light"
     },
     "output_type": "display_data"
    },
    {
     "name": "stdout",
     "output_type": "stream",
     "text": [
      "Nombre des variables aleatoire Xi est= 1000,lemda= 10 ,la moyenne= [0.09925534911137293] ,la variance= [0.009204972755209085].\n",
      "Nombre des variables aleatoire Xi est= 1000,lemda= 100 ,la moyenne= [0.0101176553120791] ,la variance= [0.00010607277835963498].\n",
      "Nombre des variables aleatoire Xi est= 1000,lemda= 1000 ,la moyenne= [0.0010195164007021267] ,la variance= [1.0414847678926578e-06].\n",
      "Nombre des variables aleatoire Xi est= 1000,lemda= 10000 ,la moyenne= [0.00010354886308858669] ,la variance= [1.032524672764852e-08].\n",
      "Nombre des variables aleatoire Xi est= 10000,lemda= 10 ,la moyenne= [0.10005763633074528] ,la variance= [0.010196642566536615].\n",
      "Nombre des variables aleatoire Xi est= 10000,lemda= 100 ,la moyenne= [0.01005982802183868] ,la variance= [9.99970467279672e-05].\n",
      "Nombre des variables aleatoire Xi est= 10000,lemda= 1000 ,la moyenne= [0.0009959965646481044] ,la variance= [9.969902620142416e-07].\n",
      "Nombre des variables aleatoire Xi est= 10000,lemda= 10000 ,la moyenne= [9.949731214697671e-05] ,la variance= [1.01478659920696e-08].\n",
      "Nombre des variables aleatoire Xi est= 100000,lemda= 10 ,la moyenne= [0.09974989274207856] ,la variance= [0.009970164877226068].\n",
      "Nombre des variables aleatoire Xi est= 100000,lemda= 100 ,la moyenne= [0.010048379222637934] ,la variance= [0.00010145424998996812].\n",
      "Nombre des variables aleatoire Xi est= 100000,lemda= 1000 ,la moyenne= [0.0010005760099927319] ,la variance= [1.0114755758494917e-06].\n",
      "Nombre des variables aleatoire Xi est= 100000,lemda= 10000 ,la moyenne= [0.00010027920975879724] ,la variance= [1.0008519780922624e-08].\n",
      "Nombre des variables aleatoire Xi est= 1000000,lemda= 10 ,la moyenne= [0.10000732219824608] ,la variance= [0.00999389041342785].\n",
      "Nombre des variables aleatoire Xi est= 1000000,lemda= 100 ,la moyenne= [0.00999901568852922] ,la variance= [0.00010014575333765098].\n",
      "Nombre des variables aleatoire Xi est= 1000000,lemda= 1000 ,la moyenne= [0.0009983563402880828] ,la variance= [9.93697273413356e-07].\n",
      "Nombre des variables aleatoire Xi est= 1000000,lemda= 10000 ,la moyenne= [0.00010003706437022464] ,la variance= [1.0000392361635862e-08].\n"
     ]
    }
   ],
   "source": [
    "xn=[[]]*4\n",
    "titatable=[[]]*4\n",
    "lamda=[10,100,1000,10000] # les valeurs de lemda\n",
    "\n",
    "for i in range(4):\n",
    "    for j in range(4):\n",
    "        t=creat_alea_table(n[i],lamda[j])\n",
    "        x=Xn(t,n[i])\n",
    "        xn[j].append([x])\n",
    "        titatable[j].append([On(t,n[i],x)])\n",
    "        plt.subplot(2,2,1)\n",
    "        plt.plot(lamda[j],titatable[i][j],'ro')\n",
    "        plt.xlabel(\"lemda\")\n",
    "        plt.ylabel(\"variance\")\n",
    "        plt.subplot(2,2,2)\n",
    "        plt.plot(lamda[j],x,'bo')\n",
    "        plt.xlabel(\"lemda\")\n",
    "        plt.ylabel(\"espérence\")\n",
    "plt.show()\n",
    "li=0\n",
    "ni=0\n",
    "ii=0\n",
    "while ii<16:\n",
    "    if li==4:\n",
    "        li=0\n",
    "        ni+=1\n",
    "    print ('Nombre des variables aleatoire Xi est= {},lemda= {} ,la moyenne= {} ,la variance= {}.'.format(n[ni],lamda[li],xn[0][ii],titatable[0][ii]))\n",
    "    ii+=1\n",
    "    li+=1"
   ]
  },
  {
   "cell_type": "markdown",
   "metadata": {},
   "source": [
    "#### Commentaires :"
   ]
  },
  {
   "cell_type": "markdown",
   "metadata": {},
   "source": [
    " Représentation graphique:"
   ]
  },
  {
   "cell_type": "markdown",
   "metadata": {},
   "source": [
    " ## <a  style=\"color:#e320c2\" >  Interprétation: </a> "
   ]
  },
  {
   "cell_type": "markdown",
   "metadata": {},
   "source": [
    "#### Pour N=1000"
   ]
  },
  {
   "cell_type": "markdown",
   "metadata": {},
   "source": [
    "<img src=\"Tableau1PNG.png\" style=\"height:360px\">"
   ]
  },
  {
   "cell_type": "markdown",
   "metadata": {},
   "source": [
    "#### Pour N=10000"
   ]
  },
  {
   "cell_type": "markdown",
   "metadata": {},
   "source": [
    "<img src=\"Tableau 2.png\" style=\"height:300px\">"
   ]
  },
  {
   "cell_type": "markdown",
   "metadata": {},
   "source": [
    "#### Pour N=100000"
   ]
  },
  {
   "cell_type": "markdown",
   "metadata": {},
   "source": [
    "<img src=\"Tableau 3.png\" style=\"height:300px\">"
   ]
  },
  {
   "cell_type": "markdown",
   "metadata": {},
   "source": [
    "##  <a  style=\"color:#e320c2\" >  Conclusion : </a> "
   ]
  },
  {
   "cell_type": "markdown",
   "metadata": {},
   "source": [
    "Quelque soit la valeur de N, la valeur de la moyenne empirique et la varience empirique sont trés proches de les resulats théoriques."
   ]
  },
  {
   "cell_type": "markdown",
   "metadata": {},
   "source": [
    "# Exemple 3"
   ]
  },
  {
   "cell_type": "markdown",
   "metadata": {},
   "source": [
    "# Code : "
   ]
  },
  {
   "cell_type": "code",
   "execution_count": 10,
   "metadata": {},
   "outputs": [
    {
     "name": "stdout",
     "output_type": "stream",
     "text": [
      "[0 2 2 1 2]\n"
     ]
    }
   ],
   "source": [
    "def creat_alea_table(n):\n",
    "    return np.random.randint(0,n+1,n)\n",
    "print(creat_alea_table(5))"
   ]
  },
  {
   "cell_type": "markdown",
   "metadata": {},
   "source": [
    "#### Représentation graphique:"
   ]
  },
  {
   "cell_type": "code",
   "execution_count": 11,
   "metadata": {},
   "outputs": [
    {
     "name": "stderr",
     "output_type": "stream",
     "text": [
      "<ipython-input-2-b482ea7b2fed>:4: RuntimeWarning: overflow encountered in long_scalars\n",
      "  x=x+j\n"
     ]
    },
    {
     "data": {
      "image/png": "[encoded data removed]",
      "text/plain": [
       "<Figure size 432x288 with 2 Axes>"
      ]
     },
     "metadata": {
      "needs_background": "light"
     },
     "output_type": "display_data"
    },
    {
     "name": "stdout",
     "output_type": "stream",
     "text": [
      "[1000, 10000, 100000, 1000000]\n",
      "Nombre des variables aleatoire Xi est= 1000 ,la moyenne= 480.642 ,la variance= 82583.70383599987\n",
      "Nombre des variables aleatoire Xi est= 10000 ,la moyenne= 4984.5638 ,la variance= 8350388.536729591\n",
      "Nombre des variables aleatoire Xi est= 100000 ,la moyenne= 6977.81025 ,la variance= 2676929036.2278934\n",
      "Nombre des variables aleatoire Xi est= 1000000 ,la moyenne= 1847.603383 ,la variance= 331351569238.70667\n"
     ]
    }
   ],
   "source": [
    "plt.style.use('seaborn-deep')\n",
    "xn=[]\n",
    "tita=[]\n",
    "for i in n:\n",
    "    t=creat_alea_table(i)\n",
    "    x=Xn(t,i)\n",
    "    xn.append(x)\n",
    "    tita.append(On(t,i,x))\n",
    "plt.subplot(2,2,1)\n",
    "plt.plot(n,tita,'r*')\n",
    "plt.subplot(2,2,2)\n",
    "plt.plot(n,xn,'b*')\n",
    "plt.show()\n",
    "print(n)\n",
    "for i in range(len(n)):\n",
    "    print('Nombre des variables aleatoire Xi est= {} ,la moyenne= {} ,la variance= {}'.format(n[i],xn[i],tita[i]))"
   ]
  },
  {
   "cell_type": "markdown",
   "metadata": {},
   "source": [
    " # <a  style=\"color:#e320c2\" >  Interprétation:  </a> "
   ]
  },
  {
   "cell_type": "markdown",
   "metadata": {},
   "source": [
    "#####  Les résultats pratiques:"
   ]
  },
  {
   "cell_type": "markdown",
   "metadata": {},
   "source": [
    "<img src=\"Tableau 4.png\" style=\"height:300px\">"
   ]
  },
  {
   "cell_type": "markdown",
   "metadata": {},
   "source": [
    "##### Conclusion:"
   ]
  },
  {
   "cell_type": "markdown",
   "metadata": {},
   "source": [
    "La moyenne empirique et la varience empirique sont presque egal l'esperence et la varience theorique quelque soit le nombre de variable aleatoire (N)."
   ]
  },
  {
   "cell_type": "markdown",
   "metadata": {},
   "source": [
    "# Exemple 4"
   ]
  },
  {
   "cell_type": "markdown",
   "metadata": {},
   "source": [
    " # <a  style=\"color:#e320c2\" >  Code:  </a> "
   ]
  },
  {
   "cell_type": "code",
   "execution_count": 12,
   "metadata": {},
   "outputs": [],
   "source": [
    "def creat_tabe(n):\n",
    "    x=[]\n",
    "    t=np.random.uniform(0, 1,n)\n",
    "    for i in t:\n",
    "        if i<0.3:\n",
    "            x.append(0)\n",
    "        elif i<0.5:\n",
    "            x.append(2)\n",
    "        else:\n",
    "            x.append(6)\n",
    "    return x"
   ]
  },
  {
   "cell_type": "code",
   "execution_count": 13,
   "metadata": {},
   "outputs": [
    {
     "name": "stdout",
     "output_type": "stream",
     "text": [
      "Nombre des variables aleatoire Xi est= 1000 ,la moyenne= 3.356 ,la variance= 7.257263999999913.\n",
      "Nombre des variables aleatoire Xi est= 10000 ,la moyenne= 3.3874 ,la variance= 7.302721239999127.\n",
      "Nombre des variables aleatoire Xi est= 100000 ,la moyenne= 3.4019 ,la variance= 7.239996390003055.\n",
      "Nombre des variables aleatoire Xi est= 1000000 ,la moyenne= 3.399508 ,la variance= 7.243801357851595.\n"
     ]
    }
   ],
   "source": [
    "xn=[]\n",
    "tita=[]\n",
    "for i in n:\n",
    "    t=creat_tabe(i)\n",
    "    x=Xn(t,i)\n",
    "    xn.append(x)\n",
    "    tita.append(On(t,i,x))\n",
    "for i in range(len(n)):\n",
    "    print ('Nombre des variables aleatoire Xi est= {} ,la moyenne= {} ,la variance= {}.'.format(n[i],xn[i],tita[i]))\n"
   ]
  },
  {
   "cell_type": "markdown",
   "metadata": {},
   "source": [
    "#### Résulats paratiques "
   ]
  },
  {
   "cell_type": "markdown",
   "metadata": {},
   "source": [
    "<img src=\"Tableau 5.png\" style=\"height:300px\">"
   ]
  },
  {
   "cell_type": "markdown",
   "metadata": {},
   "source": [
    "#### Résulats théoriques :"
   ]
  },
  {
   "cell_type": "markdown",
   "metadata": {},
   "source": [
    "# <img src=\"Tableau 6.png\" style=\"height:150px\">"
   ]
  },
  {
   "cell_type": "markdown",
   "metadata": {},
   "source": [
    "## <a  style=\"color:#e320c2\" >  conclusion:  </a> "
   ]
  },
  {
   "cell_type": "markdown",
   "metadata": {},
   "source": [
    "La valeur de la moyenne empirique et la varience empirique sont presque egal l'esperence et la varience theorique quelque soit le nombre de variable aleatoire (N)."
   ]
  },
  {
   "cell_type": "markdown",
   "metadata": {},
   "source": [
    "# Conclusion générale :"
   ]
  },
  {
   "cell_type": "markdown",
   "metadata": {},
   "source": [
    "Au cours de ce TP, nous avons déterminé la moyenne et la variance d'une variable aléatoire x et nous avons remarqué à chaque fois que les résulats pratiques sont trés proches de les résulats théoriques."
   ]
  },
  {
   "cell_type": "code",
   "execution_count": null,
   "metadata": {},
   "outputs": [],
   "source": []
  }
 ],
 "metadata": {
  "kernelspec": {
   "display_name": "Python 3",
   "language": "python",
   "name": "python3"
  },
  "language_info": {
   "codemirror_mode": {
    "name": "ipython",
    "version": 3
   },
   "file_extension": ".py",
   "mimetype": "text/x-python",
   "name": "python",
   "nbconvert_exporter": "python",
   "pygments_lexer": "ipython3",
   "version": "3.8.3"
  }
 },
 "nbformat": 4,
 "nbformat_minor": 4
}
